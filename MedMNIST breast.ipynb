{
 "cells": [
  {
   "cell_type": "code",
   "execution_count": 79,
   "id": "fe51eef6",
   "metadata": {},
   "outputs": [],
   "source": [
    "\"\"\"\n",
    "Created on Nov 12 2021\n",
    "\n",
    "@author: Caroline Hixon\n",
    "\n",
    "\n",
    "Shortcut Learning in NN using MedMNIST dataset \n",
    "    - Shortcut Learning (Geirhos et al, 2020) is found when data performs well with IID data but not OOD data\n",
    "    - Shortcuts revealed when tested under slightly different circumstances \n",
    "\n",
    "\n",
    "Study Methodology\n",
    "    Models:\n",
    "        - Simple FC neural net (3 dense layers)\n",
    "        - Baseline CNN (1 Conv2D, kernel size 3, relu + maxpool size 2)\n",
    "        - CNN with BN and dropout (2 Conv2D layers, keneral size 3, relu + maxpool size 2, Batch Norm, dropout of 0.5)\n",
    "        - ResNet (4 residual layers)\n",
    "    Testing Environment:\n",
    "        - No augmentation\n",
    "        - Test set augmentation (random shifts, rotations)\n",
    "        - Train and test set augmentation (random shifts, rotations)\n",
    "        \n",
    "Data\n",
    "    - Breast ultrasound\n",
    "    - Binary class (2)\n",
    "    - 780 samples\n",
    "    - Access to data: https://zenodo.org/record/6496656#.Ym7bZ-jMKHs\n",
    "\n",
    "Results\n",
    "    - Highest train acc: 90.66 from CNN with dropout and test only augmentation\n",
    "    - Highest validation acc: 80.77 from Baseline CNN and test only augmentation\n",
    "    - Highest test acc: 79.49 from Baseline CNN and test only augmentation\n",
    "    \n",
    "    \n",
    "\"\"\" \n"
   ]
  },
  {
   "cell_type": "code",
   "execution_count": null,
   "id": "c095ecbc",
   "metadata": {},
   "outputs": [],
   "source": [
    "# import statements\n",
    "\n",
    "import numpy as np;\n",
    "import pandas as pd\n",
    "import matplotlib.pyplot as plt\n",
    "\n",
    "import datetime\n",
    "from datetime import date\n",
    "from dateutil.relativedelta import relativedelta\n",
    "\n",
    "import numpy as np\n",
    "import tensorflow as tf\n",
    "from tensorflow import keras\n",
    "from tensorflow.keras import layers\n",
    "from tensorflow.keras import optimizers\n",
    "import keras\n",
    "from keras.layers import Dense, Conv2D, BatchNormalization, Activation\n",
    "from keras.layers import MaxPooling2D, AveragePooling2D, Input, Flatten\n",
    "from tensorflow.keras.optimizers import Adam\n",
    "from keras.callbacks import ModelCheckpoint, ReduceLROnPlateau\n",
    "from keras.preprocessing.image import ImageDataGenerator\n",
    "from keras.regularizers import l2\n",
    "from keras import backend as K\n",
    "from keras.models import Model\n",
    "import numpy as np\n",
    "import os\n",
    "import pandas as pd\n",
    "import matplotlib.pyplot as plt\n",
    "\n",
    "from tensorflow.keras.preprocessing.image import ImageDataGenerator"
   ]
  },
  {
   "cell_type": "code",
   "execution_count": 114,
   "id": "8f66c052",
   "metadata": {},
   "outputs": [
    {
     "name": "stdout",
     "output_type": "stream",
     "text": [
      "x_train shape: (156, 28, 28, 1)\n",
      "546 train samples\n",
      "156 test samples\n"
     ]
    }
   ],
   "source": [
    "# Initialize, load data, split and augment data\n",
    "\n",
    "num_classes = 2\n",
    "input_shape = (28, 28, 1)\n",
    "data_aug = False\n",
    "both = False\n",
    "\n",
    "breast_set = 'Desktop/breastmnist.npz'\n",
    "\n",
    "def load_data(path):\n",
    "    with np.load(path) as f:\n",
    "        x_train, y_train = f['train_images'], f['train_labels']\n",
    "        x_val, y_val = f['val_images'], f['val_labels'] \n",
    "        x_test, y_test = f['test_images'], f['test_labels']\n",
    "\n",
    "        return (x_train, y_train), (x_val, y_val), (x_test, y_test)\n",
    "\n",
    "(x_train, y_train), (x_val, y_val), (x_test, y_test) = load_data(breast_set)\n",
    "\n",
    "x_train = x_train.astype(\"float32\") / 255\n",
    "x_val = x_val.astype(\"float32\") / 255\n",
    "x_test = x_test.astype(\"float32\") / 255\n",
    "\n",
    "x_train = np.expand_dims(x_train, -1)\n",
    "x_val = np.expand_dims(x_val, -1)\n",
    "x_test = np.expand_dims(x_test, -1)\n",
    "\n",
    "print(\"x_train shape:\", x_test.shape)\n",
    "print(x_train.shape[0], \"train samples\")\n",
    "print(x_test.shape[0], \"test samples\")\n",
    "\n",
    "if data_aug:\n",
    "    datagen = ImageDataGenerator(rotation_range=90)\n",
    "    datagen.fit(x_test)\n",
    "    if both:\n",
    "        datagen.fit(x_train)\n",
    "        datagen.fit(x_val)"
   ]
  },
  {
   "cell_type": "code",
   "execution_count": 119,
   "id": "7d97d31e",
   "metadata": {},
   "outputs": [
    {
     "data": {
      "image/png": "[encoded data removed]",
      "text/plain": [
       "<Figure size 432x288 with 1 Axes>"
      ]
     },
     "metadata": {
      "needs_background": "light"
     },
     "output_type": "display_data"
    }
   ],
   "source": [
    "# pick a sample to plot\n",
    "sample = 3\n",
    "image = x_train[sample]\n",
    "# plot the sample\n",
    "fig = plt.figure\n",
    "plt.imshow(image, cmap='gray')\n",
    "plt.show()"
   ]
  },
  {
   "cell_type": "code",
   "execution_count": 120,
   "id": "97549759",
   "metadata": {},
   "outputs": [
    {
     "data": {
      "image/png": "[encoded data removed]",
      "text/plain": [
       "<Figure size 432x288 with 1 Axes>"
      ]
     },
     "metadata": {
      "needs_background": "light"
     },
     "output_type": "display_data"
    }
   ],
   "source": [
    "# pick a sample to plot\n",
    "sample = 13\n",
    "image = x_train[sample]\n",
    "# plot the sample\n",
    "fig = plt.figure\n",
    "plt.imshow(image, cmap='gray')\n",
    "plt.show()"
   ]
  },
  {
   "cell_type": "code",
   "execution_count": 121,
   "id": "f955b896",
   "metadata": {},
   "outputs": [
    {
     "data": {
      "image/png": "[encoded data removed]",
      "text/plain": [
       "<Figure size 432x288 with 1 Axes>"
      ]
     },
     "metadata": {
      "needs_background": "light"
     },
     "output_type": "display_data"
    }
   ],
   "source": [
    "# pick a sample to plot\n",
    "sample = 23\n",
    "image = x_train[sample]\n",
    "# plot the sample\n",
    "fig = plt.figure\n",
    "plt.imshow(image, cmap='gray')\n",
    "plt.show()"
   ]
  },
  {
   "cell_type": "code",
   "execution_count": 122,
   "id": "729abef5",
   "metadata": {},
   "outputs": [
    {
     "data": {
      "image/png": "[encoded data removed]",
      "text/plain": [
       "<Figure size 432x288 with 1 Axes>"
      ]
     },
     "metadata": {
      "needs_background": "light"
     },
     "output_type": "display_data"
    }
   ],
   "source": [
    "# pick a sample to plot\n",
    "sample = 33\n",
    "image = x_train[sample]\n",
    "# plot the sample\n",
    "fig = plt.figure\n",
    "plt.imshow(image, cmap='gray')\n",
    "plt.show()"
   ]
  },
  {
   "cell_type": "code",
   "execution_count": null,
   "id": "3f431ed4",
   "metadata": {},
   "outputs": [],
   "source": []
  },
  {
   "cell_type": "code",
   "execution_count": null,
   "id": "c605523b",
   "metadata": {},
   "outputs": [],
   "source": []
  },
  {
   "cell_type": "code",
   "execution_count": 102,
   "id": "d094b518",
   "metadata": {},
   "outputs": [
    {
     "name": "stdout",
     "output_type": "stream",
     "text": [
      "Model: \"sequential_34\"\n",
      "_________________________________________________________________\n",
      "Layer (type)                 Output Shape              Param #   \n",
      "=================================================================\n",
      "flatten_43 (Flatten)         (None, 784)               0         \n",
      "_________________________________________________________________\n",
      "dense_93 (Dense)             (None, 300)               235500    \n",
      "_________________________________________________________________\n",
      "dense_94 (Dense)             (None, 100)               30100     \n",
      "_________________________________________________________________\n",
      "dense_95 (Dense)             (None, 10)                1010      \n",
      "=================================================================\n",
      "Total params: 266,610\n",
      "Trainable params: 266,610\n",
      "Non-trainable params: 0\n",
      "_________________________________________________________________\n",
      "Epoch 1/15\n",
      "18/18 [==============================] - 1s 28ms/step - loss: 1.0525 - accuracy: 0.6978 - val_loss: 0.7650 - val_accuracy: 0.7308\n",
      "Epoch 2/15\n",
      "18/18 [==============================] - 0s 4ms/step - loss: 0.6615 - accuracy: 0.7308 - val_loss: 0.6152 - val_accuracy: 0.7308\n",
      "Epoch 3/15\n",
      "18/18 [==============================] - 0s 3ms/step - loss: 0.5916 - accuracy: 0.7381 - val_loss: 0.5978 - val_accuracy: 0.7436\n",
      "Epoch 4/15\n",
      "18/18 [==============================] - 0s 4ms/step - loss: 0.5601 - accuracy: 0.7344 - val_loss: 0.6492 - val_accuracy: 0.7308\n",
      "Epoch 5/15\n",
      "18/18 [==============================] - 0s 4ms/step - loss: 0.5570 - accuracy: 0.7381 - val_loss: 0.6844 - val_accuracy: 0.7308\n",
      "Epoch 6/15\n",
      "18/18 [==============================] - 0s 5ms/step - loss: 0.5605 - accuracy: 0.7601 - val_loss: 0.6244 - val_accuracy: 0.7308\n",
      "Epoch 7/15\n",
      "18/18 [==============================] - 0s 5ms/step - loss: 0.5433 - accuracy: 0.7326 - val_loss: 0.6562 - val_accuracy: 0.7308\n",
      "Epoch 8/15\n",
      "18/18 [==============================] - 0s 4ms/step - loss: 0.5331 - accuracy: 0.7601 - val_loss: 0.5427 - val_accuracy: 0.7564\n",
      "Epoch 9/15\n",
      "18/18 [==============================] - 0s 5ms/step - loss: 0.5180 - accuracy: 0.7729 - val_loss: 0.5520 - val_accuracy: 0.7308\n",
      "Epoch 10/15\n",
      "18/18 [==============================] - 0s 5ms/step - loss: 0.5117 - accuracy: 0.7582 - val_loss: 0.5648 - val_accuracy: 0.7308\n",
      "Epoch 11/15\n",
      "18/18 [==============================] - 0s 5ms/step - loss: 0.5015 - accuracy: 0.7692 - val_loss: 0.5338 - val_accuracy: 0.7436\n",
      "Epoch 12/15\n",
      "18/18 [==============================] - 0s 4ms/step - loss: 0.5045 - accuracy: 0.7747 - val_loss: 0.6343 - val_accuracy: 0.7308\n",
      "Epoch 13/15\n",
      "18/18 [==============================] - 0s 5ms/step - loss: 0.5039 - accuracy: 0.7766 - val_loss: 0.5317 - val_accuracy: 0.7436\n",
      "Epoch 14/15\n",
      "18/18 [==============================] - 0s 5ms/step - loss: 0.5062 - accuracy: 0.7839 - val_loss: 0.7292 - val_accuracy: 0.7308\n",
      "Epoch 15/15\n",
      "18/18 [==============================] - 0s 5ms/step - loss: 0.5012 - accuracy: 0.7894 - val_loss: 0.5611 - val_accuracy: 0.7308\n"
     ]
    },
    {
     "data": {
      "image/png": "[encoded data removed]",
      "text/plain": [
       "<Figure size 576x360 with 1 Axes>"
      ]
     },
     "metadata": {
      "needs_background": "light"
     },
     "output_type": "display_data"
    },
    {
     "name": "stdout",
     "output_type": "stream",
     "text": [
      "Model - NN - accuracy: [0.6978021860122681, 0.7307692170143127, 0.738095223903656, 0.7344322204589844, 0.738095223903656, 0.7600732445716858, 0.732600748538971, 0.7600732445716858, 0.7728937864303589, 0.7582417726516724, 0.7692307829856873, 0.7747252583503723, 0.7765567898750305, 0.7838827967643738, 0.7893772721290588]\n",
      "Model - NN - val accuracy: [0.7307692170143127, 0.7307692170143127, 0.7435897588729858, 0.7307692170143127, 0.7307692170143127, 0.7307692170143127, 0.7307692170143127, 0.7564102411270142, 0.7307692170143127, 0.7307692170143127, 0.7435897588729858, 0.7307692170143127, 0.7435897588729858, 0.7307692170143127, 0.7307692170143127]\n",
      "5/5 [==============================] - 0s 2ms/step - loss: 0.5872 - accuracy: 0.7436\n",
      "Model - NN - test loss: 58.71579051017761\n",
      "Model - NN - test accuracy: 74.35897588729858\n"
     ]
    }
   ],
   "source": [
    "# BASIC SEQUENTIAL NN\n",
    "# Used for comparison to CNN\n",
    "\n",
    "modelNN = keras.models.Sequential([\n",
    "    keras.layers.Flatten(input_shape=[28,28]),\n",
    "    keras.layers.Dense(300, activation='relu'),\n",
    "    keras.layers.Dense(100, activation='relu'),\n",
    "    keras.layers.Dense(10, activation='softmax') \n",
    "])\n",
    "\n",
    "modelNN.summary()\n",
    "\n",
    "modelNN.compile(loss='sparse_categorical_crossentropy', optimizer='sgd', metrics=['accuracy'])\n",
    "historyNN = modelNN.fit(x_train, y_train, epochs=15, validation_data=(x_val, y_val))\n",
    "\n",
    "pd.DataFrame(historyNN.history).plot(figsize=(8,5),  color=('forestgreen', 'firebrick', 'dodgerblue', 'grey'))\n",
    "plt.grid(True)\n",
    "plt.gca().set_ylim(0,1)\n",
    "plt.show()\n",
    "\n",
    "print(\"Model - NN - accuracy:\", historyNN.history['accuracy'])\n",
    "print(\"Model - NN - val accuracy:\", historyNN.history['val_accuracy'])\n",
    "\n",
    "test_loss, test_acc = modelNN.evaluate(x_test, y_test)\n",
    "print(\"Model - NN - test loss:\", test_loss * 100)\n",
    "print(\"Model - NN - test accuracy:\", test_acc * 100)"
   ]
  },
  {
   "cell_type": "raw",
   "id": "220cfe4b",
   "metadata": {},
   "source": [
    "incorrects = np.nonzero(modelNN.predict(x_test) != y_test)\n",
    "print(incorrects)"
   ]
  },
  {
   "cell_type": "code",
   "execution_count": 103,
   "id": "147d67fc",
   "metadata": {},
   "outputs": [
    {
     "name": "stdout",
     "output_type": "stream",
     "text": [
      "Model: \"sequential_35\"\n",
      "_________________________________________________________________\n",
      "Layer (type)                 Output Shape              Param #   \n",
      "=================================================================\n",
      "conv2d_167 (Conv2D)          (None, 26, 26, 32)        320       \n",
      "_________________________________________________________________\n",
      "max_pooling2d_35 (MaxPooling (None, 13, 13, 32)        0         \n",
      "_________________________________________________________________\n",
      "flatten_44 (Flatten)         (None, 5408)              0         \n",
      "_________________________________________________________________\n",
      "dense_96 (Dense)             (None, 100)               540900    \n",
      "_________________________________________________________________\n",
      "dense_97 (Dense)             (None, 2)                 202       \n",
      "=================================================================\n",
      "Total params: 541,422\n",
      "Trainable params: 541,422\n",
      "Non-trainable params: 0\n",
      "_________________________________________________________________\n",
      "Epoch 1/15\n"
     ]
    },
    {
     "name": "stderr",
     "output_type": "stream",
     "text": [
      "C:\\Users\\Caroline\\anaconda3\\lib\\site-packages\\keras\\optimizer_v2\\optimizer_v2.py:355: UserWarning: The `lr` argument is deprecated, use `learning_rate` instead.\n",
      "  warnings.warn(\n"
     ]
    },
    {
     "name": "stdout",
     "output_type": "stream",
     "text": [
      "6/6 [==============================] - 1s 51ms/step - loss: 0.6213 - accuracy: 0.7179 - val_loss: 0.5882 - val_accuracy: 0.7308\n",
      "Epoch 2/15\n",
      "6/6 [==============================] - 0s 30ms/step - loss: 0.5803 - accuracy: 0.7308 - val_loss: 0.5863 - val_accuracy: 0.7308\n",
      "Epoch 3/15\n",
      "6/6 [==============================] - 0s 32ms/step - loss: 0.5679 - accuracy: 0.7308 - val_loss: 0.5698 - val_accuracy: 0.7308\n",
      "Epoch 4/15\n",
      "6/6 [==============================] - 0s 31ms/step - loss: 0.5641 - accuracy: 0.7308 - val_loss: 0.5578 - val_accuracy: 0.7308\n",
      "Epoch 5/15\n",
      "6/6 [==============================] - 0s 30ms/step - loss: 0.5468 - accuracy: 0.7308 - val_loss: 0.5533 - val_accuracy: 0.7308\n",
      "Epoch 6/15\n",
      "6/6 [==============================] - 0s 30ms/step - loss: 0.5403 - accuracy: 0.7308 - val_loss: 0.5410 - val_accuracy: 0.7308\n",
      "Epoch 7/15\n",
      "6/6 [==============================] - 0s 31ms/step - loss: 0.5292 - accuracy: 0.7308 - val_loss: 0.5312 - val_accuracy: 0.7436\n",
      "Epoch 8/15\n",
      "6/6 [==============================] - 0s 30ms/step - loss: 0.5202 - accuracy: 0.7418 - val_loss: 0.5221 - val_accuracy: 0.7564\n",
      "Epoch 9/15\n",
      "6/6 [==============================] - 0s 30ms/step - loss: 0.5132 - accuracy: 0.7601 - val_loss: 0.5133 - val_accuracy: 0.7821\n",
      "Epoch 10/15\n",
      "6/6 [==============================] - 0s 31ms/step - loss: 0.5048 - accuracy: 0.7656 - val_loss: 0.5113 - val_accuracy: 0.7821\n",
      "Epoch 11/15\n",
      "6/6 [==============================] - 0s 30ms/step - loss: 0.5012 - accuracy: 0.7637 - val_loss: 0.5025 - val_accuracy: 0.7436\n",
      "Epoch 12/15\n",
      "6/6 [==============================] - 0s 29ms/step - loss: 0.4963 - accuracy: 0.7546 - val_loss: 0.4972 - val_accuracy: 0.7308\n",
      "Epoch 13/15\n",
      "6/6 [==============================] - 0s 30ms/step - loss: 0.4926 - accuracy: 0.7656 - val_loss: 0.4920 - val_accuracy: 0.7436\n",
      "Epoch 14/15\n",
      "6/6 [==============================] - 0s 31ms/step - loss: 0.4906 - accuracy: 0.7619 - val_loss: 0.4859 - val_accuracy: 0.7564\n",
      "Epoch 15/15\n",
      "6/6 [==============================] - 0s 30ms/step - loss: 0.4876 - accuracy: 0.7692 - val_loss: 0.4778 - val_accuracy: 0.7821\n"
     ]
    },
    {
     "data": {
      "image/png": "[encoded data removed]",
      "text/plain": [
       "<Figure size 576x360 with 1 Axes>"
      ]
     },
     "metadata": {
      "needs_background": "light"
     },
     "output_type": "display_data"
    },
    {
     "name": "stdout",
     "output_type": "stream",
     "text": [
      "Model - BNN - accuracy: [0.7179487347602844, 0.7307692170143127, 0.7307692170143127, 0.7307692170143127, 0.7307692170143127, 0.7307692170143127, 0.7307692170143127, 0.7417582273483276, 0.7600732445716858, 0.7655677795410156, 0.7637362480163574, 0.7545787692070007, 0.7655677795410156, 0.761904776096344, 0.7692307829856873]\n",
      "Model - BNN - val accuracy: [0.7307692170143127, 0.7307692170143127, 0.7307692170143127, 0.7307692170143127, 0.7307692170143127, 0.7307692170143127, 0.7435897588729858, 0.7564102411270142, 0.7820512652397156, 0.7820512652397156, 0.7435897588729858, 0.7307692170143127, 0.7435897588729858, 0.7564102411270142, 0.7820512652397156]\n",
      "5/5 [==============================] - 0s 4ms/step - loss: 0.4921 - accuracy: 0.7756\n",
      "Model - BNN - test loss: 49.208030104637146\n",
      "Model - BNN - test accuracy: 77.56410241127014\n"
     ]
    }
   ],
   "source": [
    "# BASELINE CNN\n",
    "\n",
    "epochs = 15\n",
    "batch_size = 100\n",
    "\n",
    "baseline_model = keras.Sequential([\n",
    "    \n",
    "        #first layer\n",
    "        layers.Conv2D(32, kernel_size=(3, 3), activation=\"relu\", input_shape=(28,28,1)),\n",
    "        layers.MaxPooling2D(pool_size=(2, 2)),\n",
    "    \n",
    "        layers.Flatten(),\n",
    "        layers.Dense(100, activation=\"relu\"),\n",
    "        layers.Dense(num_classes, activation=\"softmax\"),\n",
    "    ])\n",
    "\n",
    "baseline_model.summary()\n",
    "\n",
    "opt = optimizers.SGD(lr=0.01, momentum=0.9)\n",
    "baseline_model.compile(optimizer=opt, loss='sparse_categorical_crossentropy', metrics=['accuracy'])\n",
    "historyCNN = baseline_model.fit(x_train, y_train, batch_size=batch_size, epochs=epochs, validation_data=(x_val, y_val))\n",
    "\n",
    "pd.DataFrame(historyCNN.history).plot(figsize=(8,5),  color=('forestgreen', 'firebrick', 'dodgerblue', 'grey'))\n",
    "plt.grid(True)\n",
    "plt.gca().set_ylim(0,1)\n",
    "plt.show()\n",
    "print(\"Model - BNN - accuracy:\", historyCNN.history['accuracy'])\n",
    "print(\"Model - BNN - val accuracy:\", historyCNN.history['val_accuracy'])\n",
    "test_loss, test_acc = baseline_model.evaluate(x_test, y_test)\n",
    "print(\"Model - BNN - test loss:\", test_loss * 100)\n",
    "print(\"Model - BNN - test accuracy:\", test_acc * 100)\n"
   ]
  },
  {
   "cell_type": "code",
   "execution_count": null,
   "id": "d0c891fe",
   "metadata": {},
   "outputs": [],
   "source": []
  },
  {
   "cell_type": "code",
   "execution_count": 113,
   "id": "6b297853",
   "metadata": {},
   "outputs": [
    {
     "name": "stdout",
     "output_type": "stream",
     "text": [
      "Model: \"sequential_35\"\n",
      "_________________________________________________________________\n",
      "Layer (type)                 Output Shape              Param #   \n",
      "=================================================================\n",
      "conv2d_167 (Conv2D)          (None, 26, 26, 32)        320       \n",
      "_________________________________________________________________\n",
      "max_pooling2d_35 (MaxPooling (None, 13, 13, 32)        0         \n",
      "_________________________________________________________________\n",
      "flatten_44 (Flatten)         (None, 5408)              0         \n",
      "_________________________________________________________________\n",
      "dense_96 (Dense)             (None, 100)               540900    \n",
      "_________________________________________________________________\n",
      "dense_97 (Dense)             (None, 2)                 202       \n",
      "=================================================================\n",
      "Total params: 541,422\n",
      "Trainable params: 541,422\n",
      "Non-trainable params: 0\n",
      "_________________________________________________________________\n",
      "Epoch 1/15\n"
     ]
    },
    {
     "name": "stderr",
     "output_type": "stream",
     "text": [
      "C:\\Users\\Caroline\\anaconda3\\lib\\site-packages\\keras\\optimizer_v2\\optimizer_v2.py:355: UserWarning: The `lr` argument is deprecated, use `learning_rate` instead.\n",
      "  warnings.warn(\n"
     ]
    },
    {
     "name": "stdout",
     "output_type": "stream",
     "text": [
      "6/6 [==============================] - 1s 110ms/step - loss: 1.2200 - accuracy: 0.6227 - val_loss: 0.6418 - val_accuracy: 0.7308\n",
      "Epoch 2/15\n",
      "6/6 [==============================] - 0s 75ms/step - loss: 0.6039 - accuracy: 0.7216 - val_loss: 0.5988 - val_accuracy: 0.7308\n",
      "Epoch 3/15\n",
      "6/6 [==============================] - 0s 75ms/step - loss: 0.5509 - accuracy: 0.7234 - val_loss: 0.5615 - val_accuracy: 0.7308\n",
      "Epoch 4/15\n",
      "6/6 [==============================] - 0s 78ms/step - loss: 0.4638 - accuracy: 0.7729 - val_loss: 0.5615 - val_accuracy: 0.7308\n",
      "Epoch 5/15\n",
      "6/6 [==============================] - 0s 77ms/step - loss: 0.4732 - accuracy: 0.7784 - val_loss: 0.5666 - val_accuracy: 0.7308\n",
      "Epoch 6/15\n",
      "6/6 [==============================] - 0s 80ms/step - loss: 0.4373 - accuracy: 0.7967 - val_loss: 0.5673 - val_accuracy: 0.7308\n",
      "Epoch 7/15\n",
      "6/6 [==============================] - 0s 81ms/step - loss: 0.4135 - accuracy: 0.8168 - val_loss: 0.5723 - val_accuracy: 0.7308\n",
      "Epoch 8/15\n",
      "6/6 [==============================] - 0s 82ms/step - loss: 0.3820 - accuracy: 0.8223 - val_loss: 0.5786 - val_accuracy: 0.7179\n",
      "Epoch 9/15\n",
      "6/6 [==============================] - 1s 87ms/step - loss: 0.3935 - accuracy: 0.8150 - val_loss: 0.5901 - val_accuracy: 0.7179\n",
      "Epoch 10/15\n",
      "6/6 [==============================] - 1s 83ms/step - loss: 0.3512 - accuracy: 0.8645 - val_loss: 0.5930 - val_accuracy: 0.7179\n",
      "Epoch 11/15\n",
      "6/6 [==============================] - 0s 78ms/step - loss: 0.3389 - accuracy: 0.8443 - val_loss: 0.5779 - val_accuracy: 0.7051\n",
      "Epoch 12/15\n",
      "6/6 [==============================] - 0s 79ms/step - loss: 0.3410 - accuracy: 0.8498 - val_loss: 0.5940 - val_accuracy: 0.7179\n",
      "Epoch 13/15\n",
      "6/6 [==============================] - 0s 77ms/step - loss: 0.3318 - accuracy: 0.8718 - val_loss: 0.6175 - val_accuracy: 0.7051\n",
      "Epoch 14/15\n",
      "6/6 [==============================] - 0s 74ms/step - loss: 0.2930 - accuracy: 0.8718 - val_loss: 0.6390 - val_accuracy: 0.6667\n",
      "Epoch 15/15\n",
      "6/6 [==============================] - 0s 85ms/step - loss: 0.2896 - accuracy: 0.8773 - val_loss: 0.7434 - val_accuracy: 0.4615\n"
     ]
    },
    {
     "data": {
      "image/png": "[encoded data removed]",
      "text/plain": [
       "<Figure size 576x360 with 1 Axes>"
      ]
     },
     "metadata": {
      "needs_background": "light"
     },
     "output_type": "display_data"
    },
    {
     "name": "stdout",
     "output_type": "stream",
     "text": [
      "Model - CNN2 - accuracy: [0.622710645198822, 0.721611738204956, 0.7234432101249695, 0.7728937864303589, 0.778388261795044, 0.7967032790184021, 0.8168498277664185, 0.8223443031311035, 0.8150182962417603, 0.8644688725471497, 0.8443223237991333, 0.8498168587684631, 0.8717948794364929, 0.8717948794364929, 0.877289354801178]\n",
      "Model - CNN2 - val accuracy: [0.7307692170143127, 0.7307692170143127, 0.7307692170143127, 0.7307692170143127, 0.7307692170143127, 0.7307692170143127, 0.7307692170143127, 0.7179487347602844, 0.7179487347602844, 0.7179487347602844, 0.7051281929016113, 0.7179487347602844, 0.7051281929016113, 0.6666666865348816, 0.4615384638309479]\n",
      "5/5 [==============================] - 0s 7ms/step - loss: 0.7396 - accuracy: 0.4808\n",
      "Model - CNN2 - test loss: 73.9594578742981\n",
      "Model - CNN2 - test accuracy: 48.076921701431274\n"
     ]
    }
   ],
   "source": [
    "# BASELINE CNN\n",
    "\n",
    "epochs = 15\n",
    "batch_size = 100\n",
    "\n",
    "CNN_model = keras.Sequential([\n",
    "    \n",
    "        #first layer\n",
    "        layers.Conv2D(32, kernel_size=(3, 3), activation=\"relu\", input_shape=(28,28,1)),\n",
    "        layers.BatchNormalization(),\n",
    "        layers.MaxPooling2D(pool_size=(2, 2)),\n",
    "    \n",
    "        layers.Conv2D(64, kernel_size=(3, 3), activation=\"relu\", input_shape=(28,28,1)),\n",
    "        layers.BatchNormalization(),\n",
    "        layers.MaxPooling2D(pool_size=(2, 2)),\n",
    "    \n",
    "    \n",
    "        layers.Flatten(),\n",
    "        layers.Dense(100, activation=\"relu\"),\n",
    "        layers.Dropout(0.5),\n",
    "        layers.Dense(num_classes, activation=\"softmax\"),\n",
    "    ]\n",
    ")\n",
    "\n",
    "CNN_model.summary()\n",
    "\n",
    "opt = optimizers.SGD(lr=0.01, momentum=0.9)\n",
    "CNN_model.compile(optimizer=opt, loss='sparse_categorical_crossentropy', metrics=['accuracy'])\n",
    "historyCNN2 = CNN_model.fit(x_train, y_train, batch_size=batch_size, epochs=epochs, validation_data=(x_val, y_val))\n",
    "\n",
    "pd.DataFrame(historyCNN2.history).plot(figsize=(8,5),  color=('forestgreen', 'firebrick', 'dodgerblue', 'grey'))\n",
    "plt.grid(True)\n",
    "plt.gca().set_ylim(0,1)\n",
    "plt.show()\n",
    "print(\"Model - CNN2 - accuracy:\", historyCNN2.history['accuracy'])\n",
    "print(\"Model - CNN2 - val accuracy:\", historyCNN2.history['val_accuracy'])\n",
    "test_loss, test_acc = CNN_model.evaluate(x_test, y_test)\n",
    "print(\"Model - CNN2 - test loss:\", test_loss * 100)\n",
    "print(\"Model - CNN2 - test accuracy:\", test_acc * 100)\n",
    "\n"
   ]
  },
  {
   "cell_type": "code",
   "execution_count": null,
   "id": "486773e0",
   "metadata": {},
   "outputs": [],
   "source": []
  },
  {
   "cell_type": "code",
   "execution_count": null,
   "id": "2d1a0f04",
   "metadata": {},
   "outputs": [],
   "source": []
  },
  {
   "cell_type": "code",
   "execution_count": 107,
   "id": "d0965217",
   "metadata": {},
   "outputs": [
    {
     "name": "stdout",
     "output_type": "stream",
     "text": [
      "Model: \"model_10\"\n",
      "__________________________________________________________________________________________________\n",
      "Layer (type)                    Output Shape         Param #     Connected to                     \n",
      "==================================================================================================\n",
      "input_11 (InputLayer)           [(None, 28, 28, 1)]  0                                            \n",
      "__________________________________________________________________________________________________\n",
      "conv2d_185 (Conv2D)             (None, 14, 14, 64)   3200        input_11[0][0]                   \n",
      "__________________________________________________________________________________________________\n",
      "batch_normalization_154 (BatchN (None, 14, 14, 64)   256         conv2d_185[0][0]                 \n",
      "__________________________________________________________________________________________________\n",
      "activation_134 (Activation)     (None, 14, 14, 64)   0           batch_normalization_154[0][0]    \n",
      "__________________________________________________________________________________________________\n",
      "max_pooling2d_39 (MaxPooling2D) (None, 7, 7, 64)     0           activation_134[0][0]             \n",
      "__________________________________________________________________________________________________\n",
      "conv2d_186 (Conv2D)             (None, 7, 7, 64)     36928       max_pooling2d_39[0][0]           \n",
      "__________________________________________________________________________________________________\n",
      "batch_normalization_155 (BatchN (None, 7, 7, 64)     256         conv2d_186[0][0]                 \n",
      "__________________________________________________________________________________________________\n",
      "activation_135 (Activation)     (None, 7, 7, 64)     0           batch_normalization_155[0][0]    \n",
      "__________________________________________________________________________________________________\n",
      "conv2d_187 (Conv2D)             (None, 7, 7, 64)     36928       activation_135[0][0]             \n",
      "__________________________________________________________________________________________________\n",
      "batch_normalization_156 (BatchN (None, 7, 7, 64)     256         conv2d_187[0][0]                 \n",
      "__________________________________________________________________________________________________\n",
      "add_62 (Add)                    (None, 7, 7, 64)     0           max_pooling2d_39[0][0]           \n",
      "                                                                 batch_normalization_156[0][0]    \n",
      "__________________________________________________________________________________________________\n",
      "activation_136 (Activation)     (None, 7, 7, 64)     0           add_62[0][0]                     \n",
      "__________________________________________________________________________________________________\n",
      "conv2d_188 (Conv2D)             (None, 7, 7, 64)     36928       activation_136[0][0]             \n",
      "__________________________________________________________________________________________________\n",
      "batch_normalization_157 (BatchN (None, 7, 7, 64)     256         conv2d_188[0][0]                 \n",
      "__________________________________________________________________________________________________\n",
      "activation_137 (Activation)     (None, 7, 7, 64)     0           batch_normalization_157[0][0]    \n",
      "__________________________________________________________________________________________________\n",
      "conv2d_189 (Conv2D)             (None, 7, 7, 64)     36928       activation_137[0][0]             \n",
      "__________________________________________________________________________________________________\n",
      "batch_normalization_158 (BatchN (None, 7, 7, 64)     256         conv2d_189[0][0]                 \n",
      "__________________________________________________________________________________________________\n",
      "add_63 (Add)                    (None, 7, 7, 64)     0           activation_136[0][0]             \n",
      "                                                                 batch_normalization_158[0][0]    \n",
      "__________________________________________________________________________________________________\n",
      "activation_138 (Activation)     (None, 7, 7, 64)     0           add_63[0][0]                     \n",
      "__________________________________________________________________________________________________\n",
      "conv2d_190 (Conv2D)             (None, 4, 4, 128)    73856       activation_138[0][0]             \n",
      "__________________________________________________________________________________________________\n",
      "batch_normalization_159 (BatchN (None, 4, 4, 128)    512         conv2d_190[0][0]                 \n",
      "__________________________________________________________________________________________________\n",
      "activation_139 (Activation)     (None, 4, 4, 128)    0           batch_normalization_159[0][0]    \n",
      "__________________________________________________________________________________________________\n",
      "conv2d_191 (Conv2D)             (None, 4, 4, 128)    147584      activation_139[0][0]             \n",
      "__________________________________________________________________________________________________\n",
      "conv2d_192 (Conv2D)             (None, 4, 4, 128)    8320        activation_138[0][0]             \n",
      "__________________________________________________________________________________________________\n",
      "batch_normalization_160 (BatchN (None, 4, 4, 128)    512         conv2d_191[0][0]                 \n",
      "__________________________________________________________________________________________________\n",
      "add_64 (Add)                    (None, 4, 4, 128)    0           conv2d_192[0][0]                 \n",
      "                                                                 batch_normalization_160[0][0]    \n",
      "__________________________________________________________________________________________________\n",
      "activation_140 (Activation)     (None, 4, 4, 128)    0           add_64[0][0]                     \n",
      "__________________________________________________________________________________________________\n",
      "conv2d_193 (Conv2D)             (None, 4, 4, 128)    147584      activation_140[0][0]             \n",
      "__________________________________________________________________________________________________\n",
      "batch_normalization_161 (BatchN (None, 4, 4, 128)    512         conv2d_193[0][0]                 \n",
      "__________________________________________________________________________________________________\n",
      "activation_141 (Activation)     (None, 4, 4, 128)    0           batch_normalization_161[0][0]    \n",
      "__________________________________________________________________________________________________\n",
      "conv2d_194 (Conv2D)             (None, 4, 4, 128)    147584      activation_141[0][0]             \n",
      "__________________________________________________________________________________________________\n",
      "batch_normalization_162 (BatchN (None, 4, 4, 128)    512         conv2d_194[0][0]                 \n",
      "__________________________________________________________________________________________________\n",
      "add_65 (Add)                    (None, 4, 4, 128)    0           activation_140[0][0]             \n",
      "                                                                 batch_normalization_162[0][0]    \n",
      "__________________________________________________________________________________________________\n",
      "activation_142 (Activation)     (None, 4, 4, 128)    0           add_65[0][0]                     \n",
      "__________________________________________________________________________________________________\n",
      "conv2d_195 (Conv2D)             (None, 2, 2, 256)    295168      activation_142[0][0]             \n",
      "__________________________________________________________________________________________________\n",
      "batch_normalization_163 (BatchN (None, 2, 2, 256)    1024        conv2d_195[0][0]                 \n",
      "__________________________________________________________________________________________________\n",
      "activation_143 (Activation)     (None, 2, 2, 256)    0           batch_normalization_163[0][0]    \n",
      "__________________________________________________________________________________________________\n",
      "conv2d_196 (Conv2D)             (None, 2, 2, 256)    590080      activation_143[0][0]             \n",
      "__________________________________________________________________________________________________\n",
      "conv2d_197 (Conv2D)             (None, 2, 2, 256)    33024       activation_142[0][0]             \n",
      "__________________________________________________________________________________________________\n",
      "batch_normalization_164 (BatchN (None, 2, 2, 256)    1024        conv2d_196[0][0]                 \n",
      "__________________________________________________________________________________________________\n",
      "add_66 (Add)                    (None, 2, 2, 256)    0           conv2d_197[0][0]                 \n",
      "                                                                 batch_normalization_164[0][0]    \n",
      "__________________________________________________________________________________________________\n",
      "activation_144 (Activation)     (None, 2, 2, 256)    0           add_66[0][0]                     \n",
      "__________________________________________________________________________________________________\n",
      "conv2d_198 (Conv2D)             (None, 2, 2, 256)    590080      activation_144[0][0]             \n",
      "__________________________________________________________________________________________________\n",
      "batch_normalization_165 (BatchN (None, 2, 2, 256)    1024        conv2d_198[0][0]                 \n",
      "__________________________________________________________________________________________________\n",
      "activation_145 (Activation)     (None, 2, 2, 256)    0           batch_normalization_165[0][0]    \n",
      "__________________________________________________________________________________________________\n",
      "conv2d_199 (Conv2D)             (None, 2, 2, 256)    590080      activation_145[0][0]             \n",
      "__________________________________________________________________________________________________\n",
      "batch_normalization_166 (BatchN (None, 2, 2, 256)    1024        conv2d_199[0][0]                 \n",
      "__________________________________________________________________________________________________\n",
      "add_67 (Add)                    (None, 2, 2, 256)    0           activation_144[0][0]             \n",
      "                                                                 batch_normalization_166[0][0]    \n",
      "__________________________________________________________________________________________________\n",
      "activation_146 (Activation)     (None, 2, 2, 256)    0           add_67[0][0]                     \n",
      "__________________________________________________________________________________________________\n",
      "average_pooling2d_10 (AveragePo (None, 1, 1, 256)    0           activation_146[0][0]             \n",
      "__________________________________________________________________________________________________\n",
      "flatten_47 (Flatten)            (None, 256)          0           average_pooling2d_10[0][0]       \n",
      "__________________________________________________________________________________________________\n",
      "dense_101 (Dense)               (None, 2)            514         flatten_47[0][0]                 \n",
      "==================================================================================================\n",
      "Total params: 2,782,210\n",
      "Trainable params: 2,778,498\n",
      "Non-trainable params: 3,712\n",
      "__________________________________________________________________________________________________\n",
      "Epoch 1/5\n",
      "6/6 [==============================] - 27s 2s/step - loss: 2.0346 - accuracy: 0.6465 - val_loss: 2.0203 - val_accuracy: 0.7308\n",
      "Epoch 2/5\n",
      "6/6 [==============================] - 6s 924ms/step - loss: 1.0021 - accuracy: 0.7637 - val_loss: 2.0584 - val_accuracy: 0.7308\n",
      "Epoch 3/5\n",
      "6/6 [==============================] - 6s 974ms/step - loss: 0.8116 - accuracy: 0.8223 - val_loss: 4.1452 - val_accuracy: 0.7308\n",
      "Epoch 4/5\n",
      "6/6 [==============================] - 6s 979ms/step - loss: 0.7045 - accuracy: 0.9084 - val_loss: 2.3901 - val_accuracy: 0.7308\n",
      "Epoch 5/5\n",
      "6/6 [==============================] - 6s 948ms/step - loss: 0.6232 - accuracy: 0.9359 - val_loss: 1.8157 - val_accuracy: 0.7308\n"
     ]
    },
    {
     "data": {
      "image/png": "[encoded data removed]",
      "text/plain": [
       "<Figure size 576x360 with 1 Axes>"
      ]
     },
     "metadata": {
      "needs_background": "light"
     },
     "output_type": "display_data"
    },
    {
     "name": "stdout",
     "output_type": "stream",
     "text": [
      "Model - rn - accuracy: [0.6465201377868652, 0.7637362480163574, 0.8223443031311035, 0.9084249138832092, 0.9358974099159241]\n",
      "Model - rn - val accuracy: [0.7307692170143127, 0.7307692170143127, 0.7307692170143127, 0.7307692170143127, 0.7307692170143127]\n",
      "5/5 [==============================] - 0s 44ms/step - loss: 1.6412 - accuracy: 0.7308\n",
      "Model - rn - test loss: 164.12310600280762\n",
      "Model - rn - test accuracy: 73.07692170143127\n"
     ]
    }
   ],
   "source": [
    "epochs = 5\n",
    "batch_size = 100\n",
    "data_augmentation = False\n",
    "img_size = 28\n",
    "input_size = (28,28,1)\n",
    "num_classes = 2\n",
    "num_filters = 64\n",
    "num_blocks = 4\n",
    "num_sub_blocks = 2\n",
    "\n",
    "inputs = Input(shape=input_size)\n",
    "x = Conv2D(num_filters, padding='same', kernel_initializer='he_normal', kernel_size=7, strides=2, kernel_regularizer=l2(1e-4))(inputs)\n",
    "x = BatchNormalization()(x)\n",
    "x = Activation('relu')(x)\n",
    "\n",
    "for i in range(num_blocks):\n",
    "    for j in range(num_sub_blocks):\n",
    "        strides = 1\n",
    "        is_first_layer_but_not_first_block = j == 0 and i > 0\n",
    "        if is_first_layer_but_not_first_block:\n",
    "            strides = 2\n",
    "            \n",
    "        y = Conv2D(num_filters, kernel_size=3, padding='same', strides=strides, kernel_initializer='he_normal', kernel_regularizer=l2(1e-4))(x)\n",
    "        y = BatchNormalization()(y)\n",
    "        y = Activation('relu')(y)\n",
    "        \n",
    "        y = Conv2D(num_filters, kernel_size=3, padding='same', kernel_initializer='he_normal', kernel_regularizer=l2(1e-4))(y)\n",
    "        y = BatchNormalization()(y)\n",
    "        \n",
    "        if is_first_layer_but_not_first_block:\n",
    "            x = Conv2D(num_filters, kernel_size=1, padding='same', strides=2, kernel_initializer='he_normal', kernel_regularizer=l2(1e-4))(x)\n",
    "       \n",
    "        x = keras.layers.add([x, y])\n",
    "        x = Activation('relu')(x)\n",
    "\n",
    "    num_filters = 2 * num_filters\n",
    "\n",
    "x = AveragePooling2D()(x)\n",
    "y = Flatten()(x)\n",
    "outputs = Dense(num_classes,activation='softmax', kernel_initializer='he_normal')(y)\n",
    "\n",
    "modelrn = Model(inputs=inputs, outputs=outputs)\n",
    "modelrn.compile(loss='sparse_categorical_crossentropy',\n",
    "              optimizer=Adam(),\n",
    "              metrics=['accuracy'])\n",
    "modelrn.summary()\n",
    "\n",
    "historyRN = modelrn.fit(x_train, y_train,\n",
    "              batch_size=batch_size,\n",
    "              epochs=epochs,\n",
    "              validation_data=(x_val, y_val),\n",
    "              shuffle=True\n",
    "              )\n",
    "\n",
    "pd.DataFrame(historyRN.history).plot(figsize=(8,5),  color=('forestgreen', 'firebrick', 'dodgerblue', 'grey'))\n",
    "plt.grid(True)\n",
    "plt.gca().set_ylim(0,1)\n",
    "plt.show()\n",
    "print(\"Model - rn - accuracy:\", historyRN.history['accuracy'])\n",
    "print(\"Model - rn - val accuracy:\", historyRN.history['val_accuracy'])\n",
    "\n",
    "test_loss, test_acc = modelrn.evaluate(x_test, y_test)\n",
    "print(\"Model - rn - test loss:\", test_loss * 100)\n",
    "print(\"Model - rn - test accuracy:\", test_acc * 100)"
   ]
  },
  {
   "cell_type": "code",
   "execution_count": 91,
   "id": "c3c63028",
   "metadata": {},
   "outputs": [],
   "source": []
  },
  {
   "cell_type": "code",
   "execution_count": null,
   "id": "90c3e7ad",
   "metadata": {},
   "outputs": [],
   "source": []
  },
  {
   "cell_type": "code",
   "execution_count": null,
   "id": "730cdd77",
   "metadata": {},
   "outputs": [],
   "source": []
  },
  {
   "cell_type": "code",
   "execution_count": null,
   "id": "a2243c38",
   "metadata": {},
   "outputs": [],
   "source": []
  },
  {
   "cell_type": "code",
   "execution_count": null,
   "id": "fd82553b",
   "metadata": {},
   "outputs": [],
   "source": []
  },
  {
   "cell_type": "code",
   "execution_count": null,
   "id": "61821c2c",
   "metadata": {},
   "outputs": [],
   "source": []
  }
 ],
 "metadata": {
  "kernelspec": {
   "display_name": "Python 3",
   "language": "python",
   "name": "python3"
  },
  "language_info": {
   "codemirror_mode": {
    "name": "ipython",
    "version": 3
   },
   "file_extension": ".py",
   "mimetype": "text/x-python",
   "name": "python",
   "nbconvert_exporter": "python",
   "pygments_lexer": "ipython3",
   "version": "3.8.8"
  }
 },
 "nbformat": 4,
 "nbformat_minor": 5
}

{
 "cells": [
  {
   "cell_type": "code",
   "execution_count": null,
   "id": "626fb306",
   "metadata": {},
   "outputs": [],
   "source": [
    "\"\"\"\n",
    "Created on Nov 12 2021\n",
    "\n",
    "@author: Caroline Hixon\n",
    "\n",
    "\n",
    "Shortcut Learning in NN using MedMNIST dataset \n",
    "    - Shortcut Learning (Geirhos et al, 2020) is found when data performs well with IID data but not OOD data\n",
    "    - Shortcuts revealed when tested under slightly different circumstances \n",
    "\n",
    "\n",
    "Study Methodology\n",
    "    Models:\n",
    "        - Simple FC neural net (3 dense layers)\n",
    "        - Baseline CNN (1 Conv2D, kernel size 3, relu + maxpool size 2)\n",
    "        - CNN with BN and dropout (2 Conv2D layers, keneral size 3, relu + maxpool size 2, Batch Norm, dropout of 0.5)\n",
    "        - ResNet (4 residual layers)\n",
    "    Testing Environment:\n",
    "        - No augmentation\n",
    "        - Test set augmentation (random shifts, rotations)\n",
    "        - Train and test set augmentation (random shifts, rotations)\n",
    "        \n",
    "Data\n",
    "    - Pneumonia chest x-ray\n",
    "    - Binary class (2)\n",
    "    - 5,856 samples\n",
    "    - Access to data: https://zenodo.org/record/6496656#.Ym7bZ-jMKHs\n",
    "\n",
    "Results\n",
    "    - Highest train acc: 97.77 from ResNet and train/test augmentation\n",
    "    - Highest validation acc: 96.76 from CNN with dropout and no augmentation\n",
    "    - Highest test acc: 86.38 from Baseline CNN and train/test augmentation\n",
    "    \n",
    "    \n",
    "\"\"\" \n"
   ]
  },
  {
   "cell_type": "code",
   "execution_count": null,
   "id": "a6e90119",
   "metadata": {},
   "outputs": [],
   "source": []
  },
  {
   "cell_type": "code",
   "execution_count": null,
   "id": "d21b4905",
   "metadata": {},
   "outputs": [],
   "source": [
    "# import statements\n",
    "\n",
    "import numpy as np;\n",
    "import pandas as pd\n",
    "import matplotlib.pyplot as plt\n",
    "\n",
    "import datetime\n",
    "from datetime import date\n",
    "from dateutil.relativedelta import relativedelta\n",
    "\n",
    "import numpy as np\n",
    "import tensorflow as tf\n",
    "from tensorflow import keras\n",
    "from tensorflow.keras import layers\n",
    "from tensorflow.keras import optimizers\n",
    "import keras\n",
    "from keras.layers import Dense, Conv2D, BatchNormalization, Activation\n",
    "from keras.layers import MaxPooling2D, AveragePooling2D, Input, Flatten\n",
    "from tensorflow.keras.optimizers import Adam\n",
    "from keras.callbacks import ModelCheckpoint, ReduceLROnPlateau\n",
    "from keras.preprocessing.image import ImageDataGenerator\n",
    "from keras.regularizers import l2\n",
    "from keras import backend as K\n",
    "from keras.models import Model\n",
    "import numpy as np\n",
    "import os\n",
    "import pandas as pd\n",
    "import matplotlib.pyplot as plt\n",
    "\n",
    "from tensorflow.keras.preprocessing.image import ImageDataGenerator\n"
   ]
  },
  {
   "cell_type": "code",
   "execution_count": 33,
   "id": "8f66c052",
   "metadata": {},
   "outputs": [
    {
     "name": "stdout",
     "output_type": "stream",
     "text": [
      "x_train shape: (624, 28, 28, 1)\n",
      "4708 train samples\n",
      "624 test samples\n"
     ]
    }
   ],
   "source": [
    "num_classes = 2\n",
    "input_shape = (28, 28, 1)\n",
    "data_aug = True\n",
    "both = True\n",
    "\n",
    "pneu = 'Desktop/pneumoniamnist.npz'\n",
    "\n",
    "def load_data(path):\n",
    "    with np.load(path) as f:\n",
    "        x_train, y_train = f['train_images'], f['train_labels']\n",
    "        x_val, y_val = f['val_images'], f['val_labels'] \n",
    "        x_test, y_test = f['test_images'], f['test_labels']\n",
    "\n",
    "        return (x_train, y_train), (x_val, y_val), (x_test, y_test)\n",
    "\n",
    "(x_train, y_train), (x_val, y_val), (x_test, y_test) = load_data(pneu)\n",
    "\n",
    "x_train = x_train.astype(\"float32\") / 255\n",
    "x_val = x_val.astype(\"float32\") / 255\n",
    "x_test = x_test.astype(\"float32\") / 255\n",
    "# Make sure images have shape (28, 28, 1)\n",
    "x_train = np.expand_dims(x_train, -1)\n",
    "x_val = np.expand_dims(x_val, -1)\n",
    "x_test = np.expand_dims(x_test, -1)\n",
    "print(\"x_train shape:\", x_test.shape)\n",
    "print(x_train.shape[0], \"train samples\")\n",
    "print(x_test.shape[0], \"test samples\")\n",
    "\n",
    "if data_aug:\n",
    "    datagen = ImageDataGenerator(rotation_range=90)\n",
    "    datagen.fit(x_test)\n",
    "    if both:\n",
    "        datagen.fit(x_train)\n",
    "        datagen.fit(x_val)"
   ]
  },
  {
   "cell_type": "code",
   "execution_count": 38,
   "id": "bf6a35e7",
   "metadata": {},
   "outputs": [
    {
     "data": {
      "image/png": "[encoded data removed]",
      "text/plain": [
       "<Figure size 432x288 with 1 Axes>"
      ]
     },
     "metadata": {
      "needs_background": "light"
     },
     "output_type": "display_data"
    }
   ],
   "source": [
    "sample = 3\n",
    "image = x_train[sample]\n",
    "# plot the sample\n",
    "fig = plt.figure\n",
    "plt.imshow(image, cmap='gray')\n",
    "plt.show()"
   ]
  },
  {
   "cell_type": "code",
   "execution_count": 39,
   "id": "6717e4b1",
   "metadata": {},
   "outputs": [
    {
     "data": {
      "image/png": "[encoded data removed]",
      "text/plain": [
       "<Figure size 432x288 with 1 Axes>"
      ]
     },
     "metadata": {
      "needs_background": "light"
     },
     "output_type": "display_data"
    }
   ],
   "source": [
    "sample = 13\n",
    "image = x_train[sample]\n",
    "# plot the sample\n",
    "fig = plt.figure\n",
    "plt.imshow(image, cmap='gray')\n",
    "plt.show()"
   ]
  },
  {
   "cell_type": "code",
   "execution_count": 40,
   "id": "928fc83c",
   "metadata": {},
   "outputs": [
    {
     "data": {
      "image/png": "[encoded data removed]",
      "text/plain": [
       "<Figure size 432x288 with 1 Axes>"
      ]
     },
     "metadata": {
      "needs_background": "light"
     },
     "output_type": "display_data"
    }
   ],
   "source": [
    "sample = 23\n",
    "image = x_train[sample]\n",
    "# plot the sample\n",
    "fig = plt.figure\n",
    "plt.imshow(image, cmap='gray')\n",
    "plt.show()"
   ]
  },
  {
   "cell_type": "code",
   "execution_count": 41,
   "id": "10a39ed6",
   "metadata": {},
   "outputs": [
    {
     "data": {
      "image/png": "[encoded data removed]",
      "text/plain": [
       "<Figure size 432x288 with 1 Axes>"
      ]
     },
     "metadata": {
      "needs_background": "light"
     },
     "output_type": "display_data"
    }
   ],
   "source": [
    "sample = 33\n",
    "image = x_train[sample]\n",
    "# plot the sample\n",
    "fig = plt.figure\n",
    "plt.imshow(image, cmap='gray')\n",
    "plt.show()"
   ]
  },
  {
   "cell_type": "code",
   "execution_count": 29,
   "id": "d094b518",
   "metadata": {},
   "outputs": [
    {
     "name": "stdout",
     "output_type": "stream",
     "text": [
      "Model: \"sequential_11\"\n",
      "_________________________________________________________________\n",
      "Layer (type)                 Output Shape              Param #   \n",
      "=================================================================\n",
      "flatten_14 (Flatten)         (None, 784)               0         \n",
      "_________________________________________________________________\n",
      "dense_28 (Dense)             (None, 300)               235500    \n",
      "_________________________________________________________________\n",
      "dense_29 (Dense)             (None, 100)               30100     \n",
      "_________________________________________________________________\n",
      "dense_30 (Dense)             (None, 10)                1010      \n",
      "=================================================================\n",
      "Total params: 266,610\n",
      "Trainable params: 266,610\n",
      "Non-trainable params: 0\n",
      "_________________________________________________________________\n",
      "Epoch 1/15\n",
      "148/148 [==============================] - 1s 3ms/step - loss: 0.4751 - accuracy: 0.7999 - val_loss: 0.5961 - val_accuracy: 0.7519\n",
      "Epoch 2/15\n",
      "148/148 [==============================] - 0s 3ms/step - loss: 0.2845 - accuracy: 0.8830 - val_loss: 0.2920 - val_accuracy: 0.8817\n",
      "Epoch 3/15\n",
      "148/148 [==============================] - 0s 2ms/step - loss: 0.2261 - accuracy: 0.9074 - val_loss: 0.3098 - val_accuracy: 0.8588\n",
      "Epoch 4/15\n",
      "148/148 [==============================] - 0s 2ms/step - loss: 0.2066 - accuracy: 0.9174 - val_loss: 0.4156 - val_accuracy: 0.8168\n",
      "Epoch 5/15\n",
      "148/148 [==============================] - 0s 2ms/step - loss: 0.2031 - accuracy: 0.9163 - val_loss: 0.1721 - val_accuracy: 0.9427\n",
      "Epoch 6/15\n",
      "148/148 [==============================] - 0s 2ms/step - loss: 0.1821 - accuracy: 0.9325 - val_loss: 0.4053 - val_accuracy: 0.8340\n",
      "Epoch 7/15\n",
      "148/148 [==============================] - 0s 2ms/step - loss: 0.1702 - accuracy: 0.9344 - val_loss: 0.5179 - val_accuracy: 0.7824\n",
      "Epoch 8/15\n",
      "148/148 [==============================] - 0s 2ms/step - loss: 0.1604 - accuracy: 0.9356 - val_loss: 0.1458 - val_accuracy: 0.9523\n",
      "Epoch 9/15\n",
      "148/148 [==============================] - 0s 2ms/step - loss: 0.1648 - accuracy: 0.9356 - val_loss: 2.2379 - val_accuracy: 0.3340\n",
      "Epoch 10/15\n",
      "148/148 [==============================] - 0s 3ms/step - loss: 0.1756 - accuracy: 0.9322 - val_loss: 0.1350 - val_accuracy: 0.9542\n",
      "Epoch 11/15\n",
      "148/148 [==============================] - 0s 2ms/step - loss: 0.1494 - accuracy: 0.9405 - val_loss: 0.1334 - val_accuracy: 0.9542\n",
      "Epoch 12/15\n",
      "148/148 [==============================] - 0s 3ms/step - loss: 0.1532 - accuracy: 0.9407 - val_loss: 0.1421 - val_accuracy: 0.9504\n",
      "Epoch 13/15\n",
      "148/148 [==============================] - 0s 3ms/step - loss: 0.1556 - accuracy: 0.9388 - val_loss: 0.2398 - val_accuracy: 0.8931\n",
      "Epoch 14/15\n",
      "148/148 [==============================] - 0s 3ms/step - loss: 0.1487 - accuracy: 0.9418 - val_loss: 0.3031 - val_accuracy: 0.8798\n",
      "Epoch 15/15\n",
      "148/148 [==============================] - 0s 3ms/step - loss: 0.1395 - accuracy: 0.9460 - val_loss: 0.1753 - val_accuracy: 0.9389\n"
     ]
    },
    {
     "data": {
      "image/png": "[encoded data removed]",
      "text/plain": [
       "<Figure size 576x360 with 1 Axes>"
      ]
     },
     "metadata": {
      "needs_background": "light"
     },
     "output_type": "display_data"
    },
    {
     "name": "stdout",
     "output_type": "stream",
     "text": [
      "20/20 [==============================] - 0s 2ms/step - loss: 0.4065 - accuracy: 0.8542\n",
      "Model - NN - test loss: 40.64534604549408\n",
      "Model - NN - test accuracy: 85.41666865348816\n"
     ]
    }
   ],
   "source": [
    "#BASIC SEQUENTIAL NN\n",
    "\n",
    "modelNN = keras.models.Sequential([\n",
    "    keras.layers.Flatten(input_shape=[28,28]),\n",
    "    keras.layers.Dense(300, activation='relu'),\n",
    "    keras.layers.Dense(100, activation='relu'),\n",
    "    keras.layers.Dense(10, activation='softmax') \n",
    "])\n",
    "\n",
    "modelNN.summary()\n",
    "\n",
    "modelNN.compile(loss='sparse_categorical_crossentropy', optimizer='sgd', metrics=['accuracy'])\n",
    "historyNN = modelNN.fit(x_train, y_train, epochs=15, validation_data=(x_val, y_val))\n",
    "\n",
    "pd.DataFrame(historyNN.history).plot(figsize=(8,5),  color=('forestgreen', 'firebrick', 'dodgerblue', 'grey'))\n",
    "plt.grid(True)\n",
    "plt.gca().set_ylim(0,1)\n",
    "plt.show()\n",
    "\n",
    "test_loss, test_acc = modelNN.evaluate(x_test, y_test)\n",
    "print(\"Model - NN - test loss:\", test_loss * 100)\n",
    "print(\"Model - NN - test accuracy:\", test_acc * 100)"
   ]
  },
  {
   "cell_type": "raw",
   "id": "15d0a103",
   "metadata": {},
   "source": [
    "# confidence of the model that the image corresponds to the label \n",
    "predictions = modelNN.predict(x_test)\n",
    "predictions.shape \n",
    "predictions[0]\n",
    "\n"
   ]
  },
  {
   "cell_type": "raw",
   "id": "a7d6e7c5",
   "metadata": {},
   "source": [
    "incorrects = np.nonzero(modelNN.predict(x_test) != y_test)\n",
    "print(incorrects)"
   ]
  },
  {
   "cell_type": "code",
   "execution_count": 30,
   "id": "147d67fc",
   "metadata": {},
   "outputs": [
    {
     "name": "stdout",
     "output_type": "stream",
     "text": [
      "Model: \"sequential_12\"\n",
      "_________________________________________________________________\n",
      "Layer (type)                 Output Shape              Param #   \n",
      "=================================================================\n",
      "conv2d_58 (Conv2D)           (None, 26, 26, 32)        320       \n",
      "_________________________________________________________________\n",
      "max_pooling2d_16 (MaxPooling (None, 13, 13, 32)        0         \n",
      "_________________________________________________________________\n",
      "flatten_15 (Flatten)         (None, 5408)              0         \n",
      "_________________________________________________________________\n",
      "dense_31 (Dense)             (None, 100)               540900    \n",
      "_________________________________________________________________\n",
      "dense_32 (Dense)             (None, 2)                 202       \n",
      "=================================================================\n",
      "Total params: 541,422\n",
      "Trainable params: 541,422\n",
      "Non-trainable params: 0\n",
      "_________________________________________________________________\n",
      "Epoch 1/15\n"
     ]
    },
    {
     "name": "stderr",
     "output_type": "stream",
     "text": [
      "C:\\Users\\Caroline\\anaconda3\\lib\\site-packages\\keras\\optimizer_v2\\optimizer_v2.py:355: UserWarning: The `lr` argument is deprecated, use `learning_rate` instead.\n",
      "  warnings.warn(\n"
     ]
    },
    {
     "name": "stdout",
     "output_type": "stream",
     "text": [
      "48/48 [==============================] - 2s 33ms/step - loss: 0.5399 - accuracy: 0.7343 - val_loss: 0.4328 - val_accuracy: 0.7557\n",
      "Epoch 2/15\n",
      "48/48 [==============================] - 2s 32ms/step - loss: 0.2785 - accuracy: 0.8796 - val_loss: 0.1892 - val_accuracy: 0.9237\n",
      "Epoch 3/15\n",
      "48/48 [==============================] - 1s 30ms/step - loss: 0.2389 - accuracy: 0.8991 - val_loss: 0.1820 - val_accuracy: 0.9389\n",
      "Epoch 4/15\n",
      "48/48 [==============================] - 1s 31ms/step - loss: 0.1948 - accuracy: 0.9180 - val_loss: 0.1994 - val_accuracy: 0.9084\n",
      "Epoch 5/15\n",
      "48/48 [==============================] - 1s 30ms/step - loss: 0.1621 - accuracy: 0.9352 - val_loss: 0.1456 - val_accuracy: 0.9485\n",
      "Epoch 6/15\n",
      "48/48 [==============================] - 1s 30ms/step - loss: 0.1485 - accuracy: 0.9397 - val_loss: 0.1424 - val_accuracy: 0.9466\n",
      "Epoch 7/15\n",
      "48/48 [==============================] - 1s 30ms/step - loss: 0.1574 - accuracy: 0.9363 - val_loss: 0.1346 - val_accuracy: 0.9523\n",
      "Epoch 8/15\n",
      "48/48 [==============================] - 1s 30ms/step - loss: 0.1424 - accuracy: 0.9458 - val_loss: 0.1298 - val_accuracy: 0.9504\n",
      "Epoch 9/15\n",
      "48/48 [==============================] - 1s 31ms/step - loss: 0.1336 - accuracy: 0.9456 - val_loss: 0.1495 - val_accuracy: 0.9427\n",
      "Epoch 10/15\n",
      "48/48 [==============================] - 1s 29ms/step - loss: 0.1307 - accuracy: 0.9497 - val_loss: 0.1643 - val_accuracy: 0.9389\n",
      "Epoch 11/15\n",
      "48/48 [==============================] - 1s 30ms/step - loss: 0.1320 - accuracy: 0.9490 - val_loss: 0.1225 - val_accuracy: 0.9523\n",
      "Epoch 12/15\n",
      "48/48 [==============================] - 1s 30ms/step - loss: 0.1270 - accuracy: 0.9526 - val_loss: 0.1170 - val_accuracy: 0.9561\n",
      "Epoch 13/15\n",
      "48/48 [==============================] - 2s 33ms/step - loss: 0.1238 - accuracy: 0.9541 - val_loss: 0.1234 - val_accuracy: 0.9523\n",
      "Epoch 14/15\n",
      "48/48 [==============================] - 2s 32ms/step - loss: 0.1217 - accuracy: 0.9539 - val_loss: 0.1144 - val_accuracy: 0.9561\n",
      "Epoch 15/15\n",
      "48/48 [==============================] - 1s 31ms/step - loss: 0.1171 - accuracy: 0.9577 - val_loss: 0.1239 - val_accuracy: 0.9466\n"
     ]
    },
    {
     "data": {
      "image/png": "[encoded data removed]",
      "text/plain": [
       "<Figure size 576x360 with 1 Axes>"
      ]
     },
     "metadata": {
      "needs_background": "light"
     },
     "output_type": "display_data"
    },
    {
     "name": "stdout",
     "output_type": "stream",
     "text": [
      "20/20 [==============================] - 0s 4ms/step - loss: 0.5001 - accuracy: 0.8638\n",
      "Model - CNN - test loss: 50.01084804534912\n",
      "Model - CNN - test accuracy: 86.37820482254028\n"
     ]
    }
   ],
   "source": [
    "# BASELINE CNN\n",
    "\n",
    "epochs = 15\n",
    "batch_size = 100\n",
    "\n",
    "baseline_model = keras.Sequential([\n",
    "    \n",
    "        #first layer\n",
    "        layers.Conv2D(32, kernel_size=(3, 3), activation=\"relu\", input_shape=(28,28,1)),\n",
    "        layers.MaxPooling2D(pool_size=(2, 2)),\n",
    "    \n",
    "        layers.Flatten(),\n",
    "        layers.Dense(100, activation=\"relu\"),\n",
    "        layers.Dense(num_classes, activation=\"softmax\"),\n",
    "    ])\n",
    "\n",
    "baseline_model.summary()\n",
    "\n",
    "opt = optimizers.SGD(lr=0.01, momentum=0.9)\n",
    "baseline_model.compile(optimizer=opt, loss='sparse_categorical_crossentropy', metrics=['accuracy'])\n",
    "historyCNN = baseline_model.fit(x_train, y_train, batch_size=batch_size, epochs=epochs, validation_data=(x_val, y_val))\n",
    "\n",
    "pd.DataFrame(historyCNN.history).plot(figsize=(8,5),  color=('forestgreen', 'firebrick', 'dodgerblue', 'grey'))\n",
    "plt.grid(True)\n",
    "plt.gca().set_ylim(0,1)\n",
    "plt.show()\n",
    "\n",
    "test_loss, test_acc = baseline_model.evaluate(x_test, y_test)\n",
    "print(\"Model - CNN - test loss:\", test_loss * 100)\n",
    "print(\"Model - CNN - test accuracy:\", test_acc * 100)\n"
   ]
  },
  {
   "cell_type": "code",
   "execution_count": null,
   "id": "83ca4c55",
   "metadata": {},
   "outputs": [],
   "source": []
  },
  {
   "cell_type": "code",
   "execution_count": 31,
   "id": "8c728777",
   "metadata": {},
   "outputs": [
    {
     "name": "stdout",
     "output_type": "stream",
     "text": [
      "Model: \"sequential_12\"\n",
      "_________________________________________________________________\n",
      "Layer (type)                 Output Shape              Param #   \n",
      "=================================================================\n",
      "conv2d_58 (Conv2D)           (None, 26, 26, 32)        320       \n",
      "_________________________________________________________________\n",
      "max_pooling2d_16 (MaxPooling (None, 13, 13, 32)        0         \n",
      "_________________________________________________________________\n",
      "flatten_15 (Flatten)         (None, 5408)              0         \n",
      "_________________________________________________________________\n",
      "dense_31 (Dense)             (None, 100)               540900    \n",
      "_________________________________________________________________\n",
      "dense_32 (Dense)             (None, 2)                 202       \n",
      "=================================================================\n",
      "Total params: 541,422\n",
      "Trainable params: 541,422\n",
      "Non-trainable params: 0\n",
      "_________________________________________________________________\n",
      "Epoch 1/15\n"
     ]
    },
    {
     "name": "stderr",
     "output_type": "stream",
     "text": [
      "C:\\Users\\Caroline\\anaconda3\\lib\\site-packages\\keras\\optimizer_v2\\optimizer_v2.py:355: UserWarning: The `lr` argument is deprecated, use `learning_rate` instead.\n",
      "  warnings.warn(\n"
     ]
    },
    {
     "name": "stdout",
     "output_type": "stream",
     "text": [
      "48/48 [==============================] - 4s 81ms/step - loss: 0.3488 - accuracy: 0.8895 - val_loss: 0.5298 - val_accuracy: 0.7424\n",
      "Epoch 2/15\n",
      "48/48 [==============================] - 4s 79ms/step - loss: 0.1580 - accuracy: 0.9397 - val_loss: 0.3618 - val_accuracy: 0.8263\n",
      "Epoch 3/15\n",
      "48/48 [==============================] - 4s 84ms/step - loss: 0.1527 - accuracy: 0.9420 - val_loss: 0.2600 - val_accuracy: 0.9084\n",
      "Epoch 4/15\n",
      "48/48 [==============================] - 4s 82ms/step - loss: 0.1306 - accuracy: 0.9494 - val_loss: 0.1916 - val_accuracy: 0.9370\n",
      "Epoch 5/15\n",
      "48/48 [==============================] - 3s 72ms/step - loss: 0.1302 - accuracy: 0.9531 - val_loss: 0.2027 - val_accuracy: 0.9179\n",
      "Epoch 6/15\n",
      "48/48 [==============================] - 3s 72ms/step - loss: 0.1194 - accuracy: 0.9558 - val_loss: 0.2022 - val_accuracy: 0.9275\n",
      "Epoch 7/15\n",
      "48/48 [==============================] - 3s 72ms/step - loss: 0.1075 - accuracy: 0.9596 - val_loss: 0.1351 - val_accuracy: 0.9561\n",
      "Epoch 8/15\n",
      "48/48 [==============================] - 4s 78ms/step - loss: 0.1164 - accuracy: 0.9558 - val_loss: 0.1467 - val_accuracy: 0.9466\n",
      "Epoch 9/15\n",
      "48/48 [==============================] - 3s 73ms/step - loss: 0.1087 - accuracy: 0.9590 - val_loss: 0.1072 - val_accuracy: 0.9656\n",
      "Epoch 10/15\n",
      "48/48 [==============================] - 4s 74ms/step - loss: 0.1192 - accuracy: 0.9565 - val_loss: 0.1539 - val_accuracy: 0.9466\n",
      "Epoch 11/15\n",
      "48/48 [==============================] - 3s 73ms/step - loss: 0.1036 - accuracy: 0.9628 - val_loss: 0.2077 - val_accuracy: 0.9179\n",
      "Epoch 12/15\n",
      "48/48 [==============================] - 4s 76ms/step - loss: 0.0891 - accuracy: 0.9684 - val_loss: 0.1100 - val_accuracy: 0.9542\n",
      "Epoch 13/15\n",
      "48/48 [==============================] - 4s 75ms/step - loss: 0.0895 - accuracy: 0.9637 - val_loss: 0.0861 - val_accuracy: 0.9695\n",
      "Epoch 14/15\n",
      "48/48 [==============================] - 3s 73ms/step - loss: 0.0896 - accuracy: 0.9664 - val_loss: 0.0683 - val_accuracy: 0.9733\n",
      "Epoch 15/15\n",
      "48/48 [==============================] - 4s 73ms/step - loss: 0.1021 - accuracy: 0.9588 - val_loss: 0.8713 - val_accuracy: 0.6336\n"
     ]
    },
    {
     "data": {
      "image/png": "[encoded data removed]",
      "text/plain": [
       "<Figure size 576x360 with 1 Axes>"
      ]
     },
     "metadata": {
      "needs_background": "light"
     },
     "output_type": "display_data"
    },
    {
     "name": "stdout",
     "output_type": "stream",
     "text": [
      "20/20 [==============================] - 0s 7ms/step - loss: 0.6247 - accuracy: 0.7548\n",
      "Model - CNN - test loss: 62.46878504753113\n",
      "Model - CNN - test accuracy: 75.4807710647583\n"
     ]
    }
   ],
   "source": [
    "# CNN with BN\n",
    "\n",
    "epochs = 15\n",
    "batch_size = 100\n",
    "\n",
    "CNN_model = keras.Sequential([\n",
    "    \n",
    "        #first layer\n",
    "        layers.Conv2D(32, kernel_size=(3, 3), activation=\"relu\", input_shape=(28,28,1)),\n",
    "        layers.BatchNormalization(),\n",
    "        layers.MaxPooling2D(pool_size=(2, 2)),\n",
    "    \n",
    "        layers.Conv2D(64, kernel_size=(3, 3), activation=\"relu\", input_shape=(28,28,1)),\n",
    "        layers.BatchNormalization(),\n",
    "        layers.MaxPooling2D(pool_size=(2, 2)),\n",
    "    \n",
    "    \n",
    "        layers.Flatten(),\n",
    "        layers.Dense(100, activation=\"relu\"),\n",
    "        layers.Dropout(0.5),\n",
    "        layers.Dense(num_classes, activation=\"softmax\"),\n",
    "    ]\n",
    ")\n",
    "\n",
    "CNN_model.summary()\n",
    "\n",
    "opt = optimizers.SGD(lr=0.01, momentum=0.9)\n",
    "CNN_model.compile(optimizer=opt, loss='sparse_categorical_crossentropy', metrics=['accuracy'])\n",
    "historyCNN2 = CNN_model.fit(x_train, y_train, batch_size=batch_size, epochs=epochs, validation_data=(x_val, y_val))\n",
    "\n",
    "pd.DataFrame(historyCNN2.history).plot(figsize=(8,5),  color=('forestgreen', 'firebrick', 'dodgerblue', 'grey'))\n",
    "plt.grid(True)\n",
    "plt.gca().set_ylim(0,1)\n",
    "plt.show()\n",
    "\n",
    "test_loss, test_acc = CNN_model.evaluate(x_test, y_test)\n",
    "print(\"Model - CNN - test loss:\", test_loss * 100)\n",
    "print(\"Model - CNN - test accuracy:\", test_acc * 100)\n",
    "\n"
   ]
  },
  {
   "cell_type": "code",
   "execution_count": null,
   "id": "c2083f4e",
   "metadata": {},
   "outputs": [],
   "source": []
  },
  {
   "cell_type": "code",
   "execution_count": null,
   "id": "2d1a0f04",
   "metadata": {},
   "outputs": [],
   "source": []
  },
  {
   "cell_type": "code",
   "execution_count": 32,
   "id": "d0965217",
   "metadata": {},
   "outputs": [
    {
     "name": "stdout",
     "output_type": "stream",
     "text": [
      "Model: \"model_3\"\n",
      "__________________________________________________________________________________________________\n",
      "Layer (type)                    Output Shape         Param #     Connected to                     \n",
      "==================================================================================================\n",
      "input_4 (InputLayer)            [(None, 28, 28, 1)]  0                                            \n",
      "__________________________________________________________________________________________________\n",
      "conv2d_61 (Conv2D)              (None, 14, 14, 64)   3200        input_4[0][0]                    \n",
      "__________________________________________________________________________________________________\n",
      "batch_normalization_51 (BatchNo (None, 14, 14, 64)   256         conv2d_61[0][0]                  \n",
      "__________________________________________________________________________________________________\n",
      "activation_39 (Activation)      (None, 14, 14, 64)   0           batch_normalization_51[0][0]     \n",
      "__________________________________________________________________________________________________\n",
      "max_pooling2d_19 (MaxPooling2D) (None, 7, 7, 64)     0           activation_39[0][0]              \n",
      "__________________________________________________________________________________________________\n",
      "conv2d_62 (Conv2D)              (None, 7, 7, 64)     36928       max_pooling2d_19[0][0]           \n",
      "__________________________________________________________________________________________________\n",
      "batch_normalization_52 (BatchNo (None, 7, 7, 64)     256         conv2d_62[0][0]                  \n",
      "__________________________________________________________________________________________________\n",
      "activation_40 (Activation)      (None, 7, 7, 64)     0           batch_normalization_52[0][0]     \n",
      "__________________________________________________________________________________________________\n",
      "conv2d_63 (Conv2D)              (None, 7, 7, 64)     36928       activation_40[0][0]              \n",
      "__________________________________________________________________________________________________\n",
      "batch_normalization_53 (BatchNo (None, 7, 7, 64)     256         conv2d_63[0][0]                  \n",
      "__________________________________________________________________________________________________\n",
      "add_18 (Add)                    (None, 7, 7, 64)     0           max_pooling2d_19[0][0]           \n",
      "                                                                 batch_normalization_53[0][0]     \n",
      "__________________________________________________________________________________________________\n",
      "activation_41 (Activation)      (None, 7, 7, 64)     0           add_18[0][0]                     \n",
      "__________________________________________________________________________________________________\n",
      "conv2d_64 (Conv2D)              (None, 7, 7, 64)     36928       activation_41[0][0]              \n",
      "__________________________________________________________________________________________________\n",
      "batch_normalization_54 (BatchNo (None, 7, 7, 64)     256         conv2d_64[0][0]                  \n",
      "__________________________________________________________________________________________________\n",
      "activation_42 (Activation)      (None, 7, 7, 64)     0           batch_normalization_54[0][0]     \n",
      "__________________________________________________________________________________________________\n",
      "conv2d_65 (Conv2D)              (None, 7, 7, 64)     36928       activation_42[0][0]              \n",
      "__________________________________________________________________________________________________\n",
      "batch_normalization_55 (BatchNo (None, 7, 7, 64)     256         conv2d_65[0][0]                  \n",
      "__________________________________________________________________________________________________\n",
      "add_19 (Add)                    (None, 7, 7, 64)     0           activation_41[0][0]              \n",
      "                                                                 batch_normalization_55[0][0]     \n",
      "__________________________________________________________________________________________________\n",
      "activation_43 (Activation)      (None, 7, 7, 64)     0           add_19[0][0]                     \n",
      "__________________________________________________________________________________________________\n",
      "conv2d_66 (Conv2D)              (None, 4, 4, 128)    73856       activation_43[0][0]              \n",
      "__________________________________________________________________________________________________\n",
      "batch_normalization_56 (BatchNo (None, 4, 4, 128)    512         conv2d_66[0][0]                  \n",
      "__________________________________________________________________________________________________\n",
      "activation_44 (Activation)      (None, 4, 4, 128)    0           batch_normalization_56[0][0]     \n",
      "__________________________________________________________________________________________________\n",
      "conv2d_67 (Conv2D)              (None, 4, 4, 128)    147584      activation_44[0][0]              \n",
      "__________________________________________________________________________________________________\n",
      "conv2d_68 (Conv2D)              (None, 4, 4, 128)    8320        activation_43[0][0]              \n",
      "__________________________________________________________________________________________________\n",
      "batch_normalization_57 (BatchNo (None, 4, 4, 128)    512         conv2d_67[0][0]                  \n",
      "__________________________________________________________________________________________________\n",
      "add_20 (Add)                    (None, 4, 4, 128)    0           conv2d_68[0][0]                  \n",
      "                                                                 batch_normalization_57[0][0]     \n",
      "__________________________________________________________________________________________________\n",
      "activation_45 (Activation)      (None, 4, 4, 128)    0           add_20[0][0]                     \n",
      "__________________________________________________________________________________________________\n",
      "conv2d_69 (Conv2D)              (None, 4, 4, 128)    147584      activation_45[0][0]              \n",
      "__________________________________________________________________________________________________\n",
      "batch_normalization_58 (BatchNo (None, 4, 4, 128)    512         conv2d_69[0][0]                  \n",
      "__________________________________________________________________________________________________\n",
      "activation_46 (Activation)      (None, 4, 4, 128)    0           batch_normalization_58[0][0]     \n",
      "__________________________________________________________________________________________________\n",
      "conv2d_70 (Conv2D)              (None, 4, 4, 128)    147584      activation_46[0][0]              \n",
      "__________________________________________________________________________________________________\n",
      "batch_normalization_59 (BatchNo (None, 4, 4, 128)    512         conv2d_70[0][0]                  \n",
      "__________________________________________________________________________________________________\n",
      "add_21 (Add)                    (None, 4, 4, 128)    0           activation_45[0][0]              \n",
      "                                                                 batch_normalization_59[0][0]     \n",
      "__________________________________________________________________________________________________\n",
      "activation_47 (Activation)      (None, 4, 4, 128)    0           add_21[0][0]                     \n",
      "__________________________________________________________________________________________________\n",
      "conv2d_71 (Conv2D)              (None, 2, 2, 256)    295168      activation_47[0][0]              \n",
      "__________________________________________________________________________________________________\n",
      "batch_normalization_60 (BatchNo (None, 2, 2, 256)    1024        conv2d_71[0][0]                  \n",
      "__________________________________________________________________________________________________\n",
      "activation_48 (Activation)      (None, 2, 2, 256)    0           batch_normalization_60[0][0]     \n",
      "__________________________________________________________________________________________________\n",
      "conv2d_72 (Conv2D)              (None, 2, 2, 256)    590080      activation_48[0][0]              \n",
      "__________________________________________________________________________________________________\n",
      "conv2d_73 (Conv2D)              (None, 2, 2, 256)    33024       activation_47[0][0]              \n",
      "__________________________________________________________________________________________________\n",
      "batch_normalization_61 (BatchNo (None, 2, 2, 256)    1024        conv2d_72[0][0]                  \n",
      "__________________________________________________________________________________________________\n",
      "add_22 (Add)                    (None, 2, 2, 256)    0           conv2d_73[0][0]                  \n",
      "                                                                 batch_normalization_61[0][0]     \n",
      "__________________________________________________________________________________________________\n",
      "activation_49 (Activation)      (None, 2, 2, 256)    0           add_22[0][0]                     \n",
      "__________________________________________________________________________________________________\n",
      "conv2d_74 (Conv2D)              (None, 2, 2, 256)    590080      activation_49[0][0]              \n",
      "__________________________________________________________________________________________________\n",
      "batch_normalization_62 (BatchNo (None, 2, 2, 256)    1024        conv2d_74[0][0]                  \n",
      "__________________________________________________________________________________________________\n",
      "activation_50 (Activation)      (None, 2, 2, 256)    0           batch_normalization_62[0][0]     \n",
      "__________________________________________________________________________________________________\n",
      "conv2d_75 (Conv2D)              (None, 2, 2, 256)    590080      activation_50[0][0]              \n",
      "__________________________________________________________________________________________________\n",
      "batch_normalization_63 (BatchNo (None, 2, 2, 256)    1024        conv2d_75[0][0]                  \n",
      "__________________________________________________________________________________________________\n",
      "add_23 (Add)                    (None, 2, 2, 256)    0           activation_49[0][0]              \n",
      "                                                                 batch_normalization_63[0][0]     \n",
      "__________________________________________________________________________________________________\n",
      "activation_51 (Activation)      (None, 2, 2, 256)    0           add_23[0][0]                     \n",
      "__________________________________________________________________________________________________\n",
      "average_pooling2d_3 (AveragePoo (None, 1, 1, 256)    0           activation_51[0][0]              \n",
      "__________________________________________________________________________________________________\n",
      "flatten_17 (Flatten)            (None, 256)          0           average_pooling2d_3[0][0]        \n",
      "__________________________________________________________________________________________________\n",
      "dense_35 (Dense)                (None, 2)            514         flatten_17[0][0]                 \n",
      "==================================================================================================\n",
      "Total params: 2,782,210\n",
      "Trainable params: 2,778,498\n",
      "Non-trainable params: 3,712\n",
      "__________________________________________________________________________________________________\n",
      "Epoch 1/5\n",
      "48/48 [==============================] - 27s 535ms/step - loss: 0.7082 - accuracy: 0.9208 - val_loss: 1.1967 - val_accuracy: 0.7424\n",
      "Epoch 2/5\n",
      "48/48 [==============================] - 27s 560ms/step - loss: 0.5678 - accuracy: 0.9484 - val_loss: 0.5874 - val_accuracy: 0.9313\n",
      "Epoch 3/5\n",
      "48/48 [==============================] - 27s 564ms/step - loss: 0.4865 - accuracy: 0.9713 - val_loss: 1.3619 - val_accuracy: 0.7481\n",
      "Epoch 4/5\n",
      "48/48 [==============================] - 27s 554ms/step - loss: 0.4676 - accuracy: 0.9692 - val_loss: 1.1881 - val_accuracy: 0.7653\n",
      "Epoch 5/5\n",
      "48/48 [==============================] - 27s 564ms/step - loss: 0.4274 - accuracy: 0.9777 - val_loss: 0.7432 - val_accuracy: 0.8702\n"
     ]
    },
    {
     "data": {
      "image/png": "[encoded data removed]",
      "text/plain": [
       "<Figure size 576x360 with 1 Axes>"
      ]
     },
     "metadata": {
      "needs_background": "light"
     },
     "output_type": "display_data"
    },
    {
     "name": "stdout",
     "output_type": "stream",
     "text": [
      "20/20 [==============================] - 1s 27ms/step - loss: 1.6490 - accuracy: 0.6939\n",
      "Model - NN - test loss: 164.90308046340942\n",
      "Model - NN - test accuracy: 69.39102411270142\n"
     ]
    }
   ],
   "source": [
    "epochs = 5\n",
    "batch_size = 100\n",
    "data_augmentation = False\n",
    "img_size = 28\n",
    "input_size = (28,28,1)\n",
    "num_classes = 2\n",
    "num_filters = 64\n",
    "num_blocks = 4\n",
    "num_sub_blocks = 2\n",
    "use_max_pool = True\n",
    "\n",
    "inputs = Input(shape=input_size)\n",
    "x = Conv2D(num_filters, padding='same', \n",
    "           kernel_initializer='he_normal', \n",
    "           kernel_size=7, strides=2,\n",
    "           kernel_regularizer=l2(1e-4))(inputs)\n",
    "x = BatchNormalization()(x)\n",
    "x = Activation('relu')(x)\n",
    "\n",
    "if use_max_pool:\n",
    "    x = MaxPooling2D(pool_size=3,padding='same', strides=2)(x)\n",
    "    num_blocks =3\n",
    "\n",
    "for i in range(num_blocks):\n",
    "    for j in range(num_sub_blocks):\n",
    "        strides = 1\n",
    "        is_first_layer_but_not_first_block = j == 0 and i > 0\n",
    "        if is_first_layer_but_not_first_block:\n",
    "            strides = 2\n",
    "            \n",
    "        y = Conv2D(num_filters,\n",
    "                   kernel_size=3,\n",
    "                   padding='same',\n",
    "                   strides=strides,\n",
    "                   kernel_initializer='he_normal',\n",
    "                   kernel_regularizer=l2(1e-4))(x)\n",
    "        y = BatchNormalization()(y)\n",
    "        y = Activation('relu')(y)\n",
    "        \n",
    "        y = Conv2D(num_filters,\n",
    "                   kernel_size=3,\n",
    "                   padding='same',\n",
    "                   kernel_initializer='he_normal',\n",
    "                   kernel_regularizer=l2(1e-4))(y)\n",
    "        y = BatchNormalization()(y)\n",
    "        \n",
    "        if is_first_layer_but_not_first_block:\n",
    "            x = Conv2D(num_filters,\n",
    "                       kernel_size=1,\n",
    "                       padding='same',\n",
    "                       strides=2,\n",
    "                       kernel_initializer='he_normal',\n",
    "                       kernel_regularizer=l2(1e-4))(x)\n",
    "       \n",
    "        x = keras.layers.add([x, y])\n",
    "        x = Activation('relu')(x)\n",
    "\n",
    "    num_filters = 2 * num_filters\n",
    "\n",
    "# Add classifier on top.\n",
    "x = AveragePooling2D()(x)\n",
    "y = Flatten()(x)\n",
    "outputs = Dense(num_classes,\n",
    "                activation='softmax',\n",
    "                kernel_initializer='he_normal')(y)\n",
    "\n",
    "# Instantiate and compile model.\n",
    "modelrn = Model(inputs=inputs, outputs=outputs)\n",
    "modelrn.compile(loss='sparse_categorical_crossentropy',\n",
    "              optimizer=Adam(),\n",
    "              metrics=['accuracy'])\n",
    "modelrn.summary()\n",
    "\n",
    "historyRN = modelrn.fit(x_train, y_train,\n",
    "              batch_size=batch_size,\n",
    "              epochs=epochs,\n",
    "              validation_data=(x_val, y_val),\n",
    "              shuffle=True\n",
    "              )\n",
    "\n",
    "pd.DataFrame(historyRN.history).plot(figsize=(8,5),  color=('forestgreen', 'firebrick', 'dodgerblue', 'grey'))\n",
    "plt.grid(True)\n",
    "plt.gca().set_ylim(0,1)\n",
    "plt.show()\n",
    "\n",
    "test_loss, test_acc = modelrn.evaluate(x_test, y_test)\n",
    "print(\"Model - NN - test loss:\", test_loss * 100)\n",
    "print(\"Model - NN - test accuracy:\", test_acc * 100)"
   ]
  },
  {
   "cell_type": "code",
   "execution_count": null,
   "id": "90c3e7ad",
   "metadata": {},
   "outputs": [],
   "source": []
  },
  {
   "cell_type": "code",
   "execution_count": null,
   "id": "730cdd77",
   "metadata": {},
   "outputs": [],
   "source": []
  },
  {
   "cell_type": "code",
   "execution_count": null,
   "id": "a2243c38",
   "metadata": {},
   "outputs": [],
   "source": []
  },
  {
   "cell_type": "code",
   "execution_count": null,
   "id": "fd82553b",
   "metadata": {},
   "outputs": [],
   "source": []
  },
  {
   "cell_type": "code",
   "execution_count": null,
   "id": "61821c2c",
   "metadata": {},
   "outputs": [],
   "source": []
  }
 ],
 "metadata": {
  "kernelspec": {
   "display_name": "Python 3",
   "language": "python",
   "name": "python3"
  },
  "language_info": {
   "codemirror_mode": {
    "name": "ipython",
    "version": 3
   },
   "file_extension": ".py",
   "mimetype": "text/x-python",
   "name": "python",
   "nbconvert_exporter": "python",
   "pygments_lexer": "ipython3",
   "version": "3.8.8"
  }
 },
 "nbformat": 4,
 "nbformat_minor": 5
}
